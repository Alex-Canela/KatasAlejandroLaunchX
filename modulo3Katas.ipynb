{
 "cells": [
  {
   "cell_type": "markdown",
   "metadata": {},
   "source": [
    "# Escribir declaraciones if, else, elif\n",
    "Ejercicio 1"
   ]
  },
  {
   "cell_type": "code",
   "execution_count": 2,
   "metadata": {},
   "outputs": [
    {
     "name": "stdout",
     "output_type": "stream",
     "text": [
      "Advertencia se acerca un asteroide a la tierra\n"
     ]
    }
   ],
   "source": [
    "VelocidadAsteroide = 49\n",
    "velocidadAdvertencia = 25\n",
    "if VelocidadAsteroide > velocidadAdvertencia:\n",
    "    print(\"Advertencia se acerca un asteroide a la tierra\")\n",
    "else:\n",
    "    print(\"No hay de que temer\")"
   ]
  },
  {
   "cell_type": "markdown",
   "metadata": {},
   "source": [
    "Ejercicio 2"
   ]
  },
  {
   "cell_type": "code",
   "execution_count": 3,
   "metadata": {},
   "outputs": [
    {
     "name": "stdout",
     "output_type": "stream",
     "text": [
      "No hay nada que temer\n"
     ]
    }
   ],
   "source": [
    "VelocidadAsteroide = 19\n",
    "if VelocidadAsteroide > 20:\n",
    "    print(\"Miren al cielo, debe haber un Asteroide\")\n",
    "elif VelocidadAsteroide == 20:\n",
    "    print(\"Miren al cielo, debe haber un Asteroide\")\n",
    "else:\n",
    "    print(\"No hay nada que temer\")\n"
   ]
  },
  {
   "cell_type": "markdown",
   "metadata": {},
   "source": [
    "## Uso de operadores AND y OR"
   ]
  },
  {
   "cell_type": "code",
   "execution_count": 4,
   "metadata": {},
   "outputs": [
    {
     "name": "stdout",
     "output_type": "stream",
     "text": [
      "Miren al cielo, debe de haber un Asteroide\n"
     ]
    }
   ],
   "source": [
    "tamanoAsteroide = 150\n",
    "velocidadAdvertencia = 25\n",
    "if velocidadAdvertencia > 25 and tamanoAsteroide > 25:\n",
    "    print(\"Advertencia! Un asesino global se acerca a la tierra\")\n",
    "elif velocidadAdvertencia >= 20:\n",
    "    print(\"Miren al cielo, debe de haber un Asteroide\")\n",
    "elif tamanoAsteroide < 25:\n",
    "    print(\"No hay nada que temer\")\n",
    "else:\n",
    "    print(\"No hay nada que temer\")"
   ]
  }
 ],
 "metadata": {
  "interpreter": {
   "hash": "1f69dbf9a34ab62d067f247899b7fb64e05acc2a8cd8ef1546defd1d973678f5"
  },
  "kernelspec": {
   "display_name": "Python 3.9.6 64-bit",
   "language": "python",
   "name": "python3"
  },
  "language_info": {
   "codemirror_mode": {
    "name": "ipython",
    "version": 3
   },
   "file_extension": ".py",
   "mimetype": "text/x-python",
   "name": "python",
   "nbconvert_exporter": "python",
   "pygments_lexer": "ipython3",
   "version": "3.9.6"
  },
  "orig_nbformat": 4
 },
 "nbformat": 4,
 "nbformat_minor": 2
}
