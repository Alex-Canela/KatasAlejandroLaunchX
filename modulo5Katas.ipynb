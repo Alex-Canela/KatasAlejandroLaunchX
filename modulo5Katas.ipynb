{
 "cells": [
  {
   "cell_type": "markdown",
   "metadata": {},
   "source": [
    "# Utilizar operadores aritmeticos\n",
    "Ejercicio 1"
   ]
  },
  {
   "cell_type": "code",
   "execution_count": 2,
   "metadata": {},
   "outputs": [
    {
     "name": "stdout",
     "output_type": "stream",
     "text": [
      "628949330\n",
      "390577533.93\n"
     ]
    }
   ],
   "source": [
    "planeta_uno = 149597870\n",
    "planeta_dos = 778547200\n",
    "\n",
    "distancia_km = planeta_dos - planeta_uno\n",
    "print(distancia_km)\n",
    "\n",
    "distanciaMillas = distancia_km * 0.621\n",
    "print(distanciaMillas)"
   ]
  },
  {
   "cell_type": "markdown",
   "metadata": {},
   "source": [
    "Ejercicio 2"
   ]
  },
  {
   "cell_type": "code",
   "execution_count": 4,
   "metadata": {},
   "outputs": [
    {
     "name": "stdout",
     "output_type": "stream",
     "text": [
      "100\n",
      "390577533.93\n"
     ]
    }
   ],
   "source": [
    "planeta_uno = input('Introduce la distancia del sol para el primer planeta en KM')\n",
    "planeta_dos= input('Introduce la distancia desde el sol para el segundo planeta en KM')\n",
    "\n",
    "planeta_uno = int(planeta_uno)\n",
    "planeta_dos = int(planeta_dos)\n",
    "\n",
    "distancia_km = planeta_dos - planeta_uno\n",
    "print(distancia_km)\n",
    "\n",
    "distanciaMillas = distance_km * 0.621\n",
    "print(abs(distanciaMillas))"
   ]
  }
 ],
 "metadata": {
  "interpreter": {
   "hash": "1f69dbf9a34ab62d067f247899b7fb64e05acc2a8cd8ef1546defd1d973678f5"
  },
  "kernelspec": {
   "display_name": "Python 3.9.6 64-bit",
   "language": "python",
   "name": "python3"
  },
  "language_info": {
   "codemirror_mode": {
    "name": "ipython",
    "version": 3
   },
   "file_extension": ".py",
   "mimetype": "text/x-python",
   "name": "python",
   "nbconvert_exporter": "python",
   "pygments_lexer": "ipython3",
   "version": "3.9.6"
  },
  "orig_nbformat": 4
 },
 "nbformat": 4,
 "nbformat_minor": 2
}
